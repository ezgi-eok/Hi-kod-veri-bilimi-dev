{
 "cells": [
  {
   "cell_type": "raw",
   "id": "495798f4-70b7-4861-86fb-4ce3e9bd2339",
   "metadata": {},
   "source": [
    "sozluk = {\"Kategori\": [\"Giyim\",\"Giyim\", \"Ayakkabı\",\"Aksesuar\",\"Ayakkabı\",\"Giyim\",\"Aksesuar\",\"Aksesuar\",\"Ayakkabı\",\"Giyim\"],\n",
    "         \"Ürün\" : [\"Kazak\",\"T-shirt\",\"Sandalet\",\"Küpe\",\"Spor Ayakkabı\",\"Pantolon\",\"Kolye\",\"Yüzük\",\"Çizme\",\"Ceket\"],\n",
    "         \"Fiyat\" : [300,180,450,50,700,400,150,80,850,900]}"
   ]
  },
  {
   "cell_type": "code",
   "execution_count": 4,
   "id": "a21d0b4b-c82c-44af-b38c-1cf5d7433e28",
   "metadata": {},
   "outputs": [
    {
     "data": {
      "text/html": [
       "<div>\n",
       "<style scoped>\n",
       "    .dataframe tbody tr th:only-of-type {\n",
       "        vertical-align: middle;\n",
       "    }\n",
       "\n",
       "    .dataframe tbody tr th {\n",
       "        vertical-align: top;\n",
       "    }\n",
       "\n",
       "    .dataframe thead th {\n",
       "        text-align: right;\n",
       "    }\n",
       "</style>\n",
       "<table border=\"1\" class=\"dataframe\">\n",
       "  <thead>\n",
       "    <tr style=\"text-align: right;\">\n",
       "      <th></th>\n",
       "      <th>Kategori</th>\n",
       "      <th>Ürün</th>\n",
       "      <th>Fiyat</th>\n",
       "    </tr>\n",
       "  </thead>\n",
       "  <tbody>\n",
       "    <tr>\n",
       "      <th>0</th>\n",
       "      <td>Giyim</td>\n",
       "      <td>Kazak</td>\n",
       "      <td>300</td>\n",
       "    </tr>\n",
       "    <tr>\n",
       "      <th>1</th>\n",
       "      <td>Giyim</td>\n",
       "      <td>T-shirt</td>\n",
       "      <td>180</td>\n",
       "    </tr>\n",
       "    <tr>\n",
       "      <th>2</th>\n",
       "      <td>Ayakkabı</td>\n",
       "      <td>Sandalet</td>\n",
       "      <td>450</td>\n",
       "    </tr>\n",
       "    <tr>\n",
       "      <th>3</th>\n",
       "      <td>Aksesuar</td>\n",
       "      <td>Küpe</td>\n",
       "      <td>50</td>\n",
       "    </tr>\n",
       "    <tr>\n",
       "      <th>4</th>\n",
       "      <td>Ayakkabı</td>\n",
       "      <td>Spor Ayakkabı</td>\n",
       "      <td>700</td>\n",
       "    </tr>\n",
       "    <tr>\n",
       "      <th>5</th>\n",
       "      <td>Giyim</td>\n",
       "      <td>Pantolon</td>\n",
       "      <td>400</td>\n",
       "    </tr>\n",
       "    <tr>\n",
       "      <th>6</th>\n",
       "      <td>Aksesuar</td>\n",
       "      <td>Kolye</td>\n",
       "      <td>150</td>\n",
       "    </tr>\n",
       "    <tr>\n",
       "      <th>7</th>\n",
       "      <td>Aksesuar</td>\n",
       "      <td>Yüzük</td>\n",
       "      <td>80</td>\n",
       "    </tr>\n",
       "    <tr>\n",
       "      <th>8</th>\n",
       "      <td>Ayakkabı</td>\n",
       "      <td>Çizme</td>\n",
       "      <td>850</td>\n",
       "    </tr>\n",
       "    <tr>\n",
       "      <th>9</th>\n",
       "      <td>Giyim</td>\n",
       "      <td>Ceket</td>\n",
       "      <td>900</td>\n",
       "    </tr>\n",
       "  </tbody>\n",
       "</table>\n",
       "</div>"
      ],
      "text/plain": [
       "   Kategori           Ürün  Fiyat\n",
       "0     Giyim          Kazak    300\n",
       "1     Giyim        T-shirt    180\n",
       "2  Ayakkabı       Sandalet    450\n",
       "3  Aksesuar           Küpe     50\n",
       "4  Ayakkabı  Spor Ayakkabı    700\n",
       "5     Giyim       Pantolon    400\n",
       "6  Aksesuar          Kolye    150\n",
       "7  Aksesuar          Yüzük     80\n",
       "8  Ayakkabı          Çizme    850\n",
       "9     Giyim          Ceket    900"
      ]
     },
     "execution_count": 4,
     "metadata": {},
     "output_type": "execute_result"
    }
   ],
   "source": [
    "import pandas as pd\n",
    "\n",
    "# Verilen sözlük\n",
    "ozluk = {\n",
    "    \"Kategori\": [\"Giyim\", \"Giyim\", \"Ayakkabı\", \"Aksesuar\", \"Ayakkabı\", \n",
    "                 \"Giyim\", \"Aksesuar\", \"Aksesuar\", \"Ayakkabı\", \"Giyim\"],\n",
    "    \"Ürün\": [\"Kazak\", \"T-shirt\", \"Sandalet\", \"Küpe\", \"Spor Ayakkabı\",\n",
    "             \"Pantolon\", \"Kolye\", \"Yüzük\", \"Çizme\", \"Ceket\"],\n",
    "    \"Fiyat\": [300, 180, 450, 50, 700, 400, 150, 80, 850, 900]\n",
    "}\n",
    "\n",
    "# Sözlüğü DataFrame'e dönüştürme\n",
    "df = pd.DataFrame(ozluk)\n",
    "df\n"
   ]
  },
  {
   "cell_type": "code",
   "execution_count": 6,
   "id": "c0d32d71-3cd1-4f36-ad4e-2624aa0b98c6",
   "metadata": {},
   "outputs": [
    {
     "data": {
      "text/plain": [
       "('Ayakkabı',\n",
       " 'Sandalet',\n",
       "    Kategori           Ürün  Fiyat\n",
       " 4  Ayakkabı  Spor Ayakkabı    700\n",
       " 5     Giyim       Pantolon    400\n",
       " 6  Aksesuar          Kolye    150\n",
       " 7  Aksesuar          Yüzük     80\n",
       " 8  Ayakkabı          Çizme    850\n",
       " 9     Giyim          Ceket    900,\n",
       " 1          T-shirt\n",
       " 2         Sandalet\n",
       " 3             Küpe\n",
       " 4    Spor Ayakkabı\n",
       " 5         Pantolon\n",
       " 6            Kolye\n",
       " Name: Ürün, dtype: object)"
      ]
     },
     "execution_count": 6,
     "metadata": {},
     "output_type": "execute_result"
    }
   ],
   "source": [
    "# 2. indexte bulunan kategori bilgisi\n",
    "kategori_2_index = df.loc[2, \"Kategori\"]\n",
    "\n",
    "# 2. indexte bulunan ürün bilgisi\n",
    "urun_2_index = df.loc[2, \"Ürün\"]\n",
    "\n",
    "# 4. indexten 9. indexe kadar olan verileri (kategori, ürün, fiyat) bulma\n",
    "veriler_4_9_index = df.loc[4:9]\n",
    "\n",
    "# 1. indexten 6. indexe kadar olan ürünleri bulma\n",
    "urunler_1_6_index = df.loc[1:6, \"Ürün\"]\n",
    "\n",
    "kategori_2_index, urun_2_index, veriler_4_9_index, urunler_1_6_index"
   ]
  },
  {
   "cell_type": "code",
   "execution_count": 8,
   "id": "517761a3-95c6-4d0a-bd44-4151d5b08c5e",
   "metadata": {},
   "outputs": [
    {
     "data": {
      "text/plain": [
       "(0       Kazak\n",
       " 1     T-shirt\n",
       " 5    Pantolon\n",
       " 9       Ceket\n",
       " Name: Ürün, dtype: object,\n",
       " 2         Sandalet\n",
       " 4    Spor Ayakkabı\n",
       " 8            Çizme\n",
       " Name: Ürün, dtype: object,\n",
       " 3     Küpe\n",
       " 6    Kolye\n",
       " 7    Yüzük\n",
       " Name: Ürün, dtype: object)"
      ]
     },
     "execution_count": 8,
     "metadata": {},
     "output_type": "execute_result"
    }
   ],
   "source": [
    "# Giyim kategorisindeki ürünleri bulma\n",
    "giyim_urunleri = df[df[\"Kategori\"] == \"Giyim\"][\"Ürün\"]\n",
    "\n",
    "# Ayakkabı kategorisindeki ürünleri bulma\n",
    "ayakkabi_urunleri = df[df[\"Kategori\"] == \"Ayakkabı\"][\"Ürün\"]\n",
    "\n",
    "# Aksesuar kategorisindeki ürünleri bulma\n",
    "aksesuar_urunleri = df[df[\"Kategori\"] == \"Aksesuar\"][\"Ürün\"]\n",
    "\n",
    "giyim_urunleri, ayakkabi_urunleri, aksesuar_urunleri\n"
   ]
  },
  {
   "cell_type": "code",
   "execution_count": 10,
   "id": "b69da721-8dc2-4b59-9cb0-975d50c22bc6",
   "metadata": {},
   "outputs": [
    {
     "name": "stdout",
     "output_type": "stream",
     "text": [
      "Giyim Kategorisi:   Kategori      Ürün  Fiyat\n",
      "5    Giyim  Pantolon    400\n",
      "9    Giyim     Ceket    900\n",
      "Ayakkabı Kategorisi:    Kategori      Ürün  Fiyat\n",
      "2  Ayakkabı  Sandalet    450\n",
      "Aksesuar Kategorisi:    Kategori   Ürün  Fiyat\n",
      "6  Aksesuar  Kolye    150\n"
     ]
    }
   ],
   "source": [
    "# Giyim kategorisinde fiyatı 300'den fazla olan ürünler\n",
    "giyim_fiyat_filtre = df[(df[\"Kategori\"] == \"Giyim\") & (df[\"Fiyat\"] > 300)]\n",
    "\n",
    "# Ayakkabı kategorisinde fiyatı 600'den az olan ürünler\n",
    "ayakkabi_fiyat_filtre = df[(df[\"Kategori\"] == \"Ayakkabı\") & (df[\"Fiyat\"] < 600)]\n",
    "\n",
    "# Aksesuar kategorisinde fiyatı 100'den fazla olan aksesuarlar\n",
    "aksesuar_fiyat_filtre = df[(df[\"Kategori\"] == \"Aksesuar\") & (df[\"Fiyat\"] > 100)]\n",
    "\n",
    "print(\"Giyim Kategorisi:\", giyim_fiyat_filtre)\n",
    "print(\"Ayakkabı Kategorisi:\", ayakkabi_fiyat_filtre)\n",
    "print(\"Aksesuar Kategorisi:\", aksesuar_fiyat_filtre)\n"
   ]
  },
  {
   "cell_type": "code",
   "execution_count": null,
   "id": "aeb813a7-9785-4935-a62e-81571f8ccebf",
   "metadata": {},
   "outputs": [],
   "source": []
  }
 ],
 "metadata": {
  "kernelspec": {
   "display_name": "Python 3 (ipykernel)",
   "language": "python",
   "name": "python3"
  },
  "language_info": {
   "codemirror_mode": {
    "name": "ipython",
    "version": 3
   },
   "file_extension": ".py",
   "mimetype": "text/x-python",
   "name": "python",
   "nbconvert_exporter": "python",
   "pygments_lexer": "ipython3",
   "version": "3.11.7"
  }
 },
 "nbformat": 4,
 "nbformat_minor": 5
}
