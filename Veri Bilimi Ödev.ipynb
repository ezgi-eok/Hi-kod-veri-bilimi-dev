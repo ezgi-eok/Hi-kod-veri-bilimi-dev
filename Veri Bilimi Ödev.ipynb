{
 "cells": [
  {
   "cell_type": "markdown",
   "id": "4c950585-445d-4f86-a45d-206a03f1eae2",
   "metadata": {},
   "source": [
    "## Ödev 1: Sözlük Oluşturma ve Bilgi Sorgulama\n"
   ]
  },
  {
   "cell_type": "code",
   "execution_count": null,
   "id": "67b3f698-152d-4129-9393-7885e1dbed6e",
   "metadata": {},
   "outputs": [],
   "source": [
    "# Ödev 1: Sözlük oluşturma ve bilgi sorgulama\n",
    "# Öğrencilerin isimleri ve ders notları için bir sözlük oluşturuluyor\n",
    "notlar = {\n",
    "    \"Ahmet\": {\"Matematik\": 85, \"Fizik\": 78, \"Kimya\": 92},\n",
    "    \"Ayşe\": {\"Matematik\": 90, \"Fizik\": 88, \"Kimya\": 85},\n",
    "    \"Mehmet\": {\"Matematik\": 75, \"Fizik\": 80, \"Kimya\": 78}\n",
    "}\n",
    "\n",
    "# Kullanıcıdan isim ve ders bilgisi alınıyor\n",
    "isim = input(\"Öğrenci ismi girin: \")\n",
    "ders = input(\"Ders ismi girin (Matematik, Fizik, Kimya): \")\n",
    "\n",
    "# Bilgiler kontrol ediliyor ve sonuç gösteriliyor\n",
    "if isim in notlar and ders in notlar[isim]:\n",
    "    print(f\"{isim} isimli öğrencinin {ders} notu: {notlar[isim][ders]}\")\n",
    "else:\n",
    "    print(\"Girilen bilgiye göre bir sonuç bulunamadı.\")\n"
   ]
  },
  {
   "cell_type": "markdown",
   "id": "f65b0678-171a-40ad-9bdc-333c74880616",
   "metadata": {},
   "source": [
    "## Ödev 2: Sözlükte Güncelleme ve Yeni Değer Ekleme"
   ]
  },
  {
   "cell_type": "code",
   "execution_count": null,
   "id": "fd22eae3-8a74-4094-85b3-1afcbb8fc3b8",
   "metadata": {},
   "outputs": [],
   "source": [
    "# Ödev 2: Sözlükte değer değiştirme, ekleme ve bilgi sorgulama\n",
    "# Öğrencilerin isimleri ve ders notları için bir sözlük\n",
    "notlar = {\n",
    "    \"Ahmet\": {\"Matematik\": 85, \"Fizik\": 78, \"Kimya\": 92},\n",
    "    \"Ayşe\": {\"Matematik\": 90, \"Fizik\": 88, \"Kimya\": 85},\n",
    "    \"Mehmet\": {\"Matematik\": 75, \"Fizik\": 80, \"Kimya\": 78}\n",
    "}\n",
    "\n",
    "def ogrenci_ekle(isim, ders, notu):\n",
    "    if isim not in notlar:\n",
    "        notlar[isim] = {}\n",
    "    notlar[isim][ders] = notu\n",
    "    print(f\"{isim} isimli öğrencinin {ders} dersi için {notu} notu eklendi.\")\n",
    "\n",
    "def not_degistir(isim, ders, yeni_not):\n",
    "    if isim in notlar and ders in notlar[isim]:\n",
    "        notlar[isim][ders] = yeni_not\n",
    "        print(f\"{isim} isimli öğrencinin {ders} dersi için notu {yeni_not} olarak güncellendi.\")\n",
    "    else:\n",
    "        print(\"Belirtilen öğrenci veya ders bulunamadı.\")\n",
    "\n",
    "def bilgi_sorgula(isim, ders):\n",
    "    if isim in notlar and ders in notlar[isim]:\n",
    "        print(f\"{isim} isimli öğrencinin {ders} notu: {notlar[isim][ders]}\")\n",
    "    else:\n",
    "        print(\"Girilen bilgiye göre bir sonuç bulunamadı.\")\n",
    "\n",
    "# Kullanıcı işlemleri\n",
    "while True:\n",
    "    print(\"\\n1: Öğrenci Ekle veya Güncelle\")\n",
    "    print(\"2: Not Değiştir\")\n",
    "    print(\"3: Bilgi Sorgula\")\n",
    "    print(\"4: Çıkış\")\n",
    "    secim = input(\"Bir işlem seçin: \")\n",
    "\n",
    "    if secim == \"1\":\n",
    "        isim = input(\"Öğrenci ismi girin: \")\n",
    "        ders = input(\"Ders ismi girin: \")\n",
    "        notu = int(input(f\"{isim} için {ders} notunu girin: \"))\n",
    "        ogrenci_ekle(isim, ders, notu)\n",
    "    elif secim == \"2\":\n",
    "        isim = input(\"Öğrenci ismi girin: \")\n",
    "        ders = input(\"Ders ismi girin: \")\n",
    "        yeni_not = int(input(f\"{isim} için {ders} yeni notunu girin: \"))\n",
    "        not_degistir(isim, ders, yeni_not)\n",
    "    elif secim == \"3\":\n",
    "        isim = input(\"Öğrenci ismi girin: \")\n",
    "        ders = input(\"Ders ismi girin: \")\n",
    "        bilgi_sorgula(isim, ders)\n",
    "    elif secim == \"4\":\n",
    "        print(\"Programdan çıkılıyor...\")\n",
    "        break\n",
    "    else:\n",
    "        print(\"Geçersiz seçim. Tekrar deneyin.\")\n"
   ]
  },
  {
   "cell_type": "code",
   "execution_count": null,
   "id": "b04895ae-3833-4c70-bad5-1682bb340b5f",
   "metadata": {},
   "outputs": [],
   "source": []
  }
 ],
 "metadata": {
  "kernelspec": {
   "display_name": "Python 3 (ipykernel)",
   "language": "python",
   "name": "python3"
  },
  "language_info": {
   "codemirror_mode": {
    "name": "ipython",
    "version": 3
   },
   "file_extension": ".py",
   "mimetype": "text/x-python",
   "name": "python",
   "nbconvert_exporter": "python",
   "pygments_lexer": "ipython3",
   "version": "3.11.7"
  }
 },
 "nbformat": 4,
 "nbformat_minor": 5
}
