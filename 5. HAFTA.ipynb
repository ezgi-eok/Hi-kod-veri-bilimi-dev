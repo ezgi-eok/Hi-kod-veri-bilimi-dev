{
 "cells": [
  {
   "cell_type": "markdown",
   "id": "0d8c5651-a347-46e0-abe3-046e4eda5a28",
   "metadata": {},
   "source": [
    "## 1. SORU - Aşağıdaki işlemleri indexing ve slicing kullanarak liste üzerinde uygulayın."
   ]
  },
  {
   "cell_type": "code",
   "execution_count": 4,
   "id": "155da877-298c-4fe5-b785-9e5ae16b70f5",
   "metadata": {},
   "outputs": [
    {
     "name": "stdout",
     "output_type": "stream",
     "text": [
      "3\n",
      "Hi-Kod\n",
      "4.7\n",
      "[9, '3', 8.4, 'Hi-Kod']\n",
      "[8.4, 'Hi-Kod', 'False', 4.7]\n"
     ]
    }
   ],
   "source": [
    "# Verilen liste\n",
    "liste = [\"Python\", True, 9, \"3\", 8.4, \"Hi-Kod\", \"False\", 4.7]\n",
    "\n",
    "# 1. \"3\" değerine ulaşmak için indexleme\n",
    "print(liste[3])  # Çıktı: \"3\"\n",
    "\n",
    "# 2. \"Hi-Kod\" değerine ulaşmak için indexleme\n",
    "print(liste[5])  # Çıktı: \"Hi-Kod\"\n",
    "\n",
    "# 3. 4.7 değerine ulaşmak için indexleme\n",
    "print(liste[7])  # Çıktı: 4.7\n",
    "\n",
    "# 4. 9, \"3\", 8.4, \"Hi-Kod\" değerlerine ulaşmak için slicing\n",
    "print(liste[2:6])  # Çıktı: [9, \"3\", 8.4, \"Hi-Kod\"]\n",
    "\n",
    "# 5. 8.4, \"Hi-Kod\", \"False\", 4.7 değerlerine ulaşmak için slicing\n",
    "print(liste[4:])  # Çıktı: [8.4, \"Hi-Kod\", \"False\", 4.7]\n"
   ]
  },
  {
   "cell_type": "markdown",
   "id": "8c39fc7d-0541-43e4-ab05-6e92d346cb3e",
   "metadata": {},
   "source": [
    "## 2. SORU - Verilen listede bulunan string veri tipindeki öğeleri yeni_liste isimli listeye eklenir."
   ]
  },
  {
   "cell_type": "code",
   "execution_count": 6,
   "id": "fd7e4cb7-f6f2-4283-88a5-4de70021e171",
   "metadata": {},
   "outputs": [
    {
     "name": "stdout",
     "output_type": "stream",
     "text": [
      "['Python', '3', 'Hi-Kod', 'False']\n"
     ]
    }
   ],
   "source": [
    "# Verilen liste\n",
    "liste = [\"Python\", True, 9, \"3\", 8.4, \"Hi-Kod\", \"False\", 4.7]\n",
    "\n",
    "# String veri tipindeki öğeleri yeni_liste'ye ekleme\n",
    "yeni_liste = [item for item in liste if isinstance(item, str)]\n",
    "\n",
    "# Sonuç\n",
    "print(yeni_liste)  # Çıktı: [\"Python\", \"3\", \"Hi-Kod\", \"False\"]"
   ]
  },
  {
   "cell_type": "markdown",
   "id": "08c33f74-c599-4f81-bdfb-e0be173ccec6",
   "metadata": {},
   "source": [
    "## 3. SORU - Enumerate methodunu araştırın ve aşağıdaki örneği enumerate methodu ile yapın."
   ]
  },
  {
   "cell_type": "code",
   "execution_count": 8,
   "id": "a18b0083-0839-4fee-8474-1d7d0666bfbf",
   "metadata": {},
   "outputs": [
    {
     "name": "stdout",
     "output_type": "stream",
     "text": [
      "0. indexte bulunan meyve: Elma\n",
      "1. indexte bulunan meyve: Armut\n",
      "2. indexte bulunan meyve: Muz\n",
      "3. indexte bulunan meyve: Çilek\n"
     ]
    }
   ],
   "source": [
    "# Örnek liste\n",
    "meyveler = [\"Elma\", \"Armut\", \"Muz\", \"Çilek\"]\n",
    "\n",
    "# Enumerate kullanarak indeks ve öğelere ulaşma\n",
    "for index, meyve in enumerate(meyveler):\n",
    "    print(\"{}. indexte bulunan meyve: {}\".format(index, meyve))\n"
   ]
  },
  {
   "cell_type": "markdown",
   "id": "159866a0-4d40-4547-98f4-e962f7f546f5",
   "metadata": {},
   "source": [
    "## 4. BİRLEŞİM HALİNDE GÖSTERİLİRSE"
   ]
  },
  {
   "cell_type": "code",
   "execution_count": 16,
   "id": "973fbb1a-a781-489e-957f-4313e28ff25b",
   "metadata": {},
   "outputs": [
    {
     "name": "stdout",
     "output_type": "stream",
     "text": [
      "1. '3' değerine ulaşmak için indexleme:\n",
      "3\n",
      "\n",
      "2. 'Hi-Kod' değerine ulaşmak için indexleme:\n",
      "Hi-Kod\n",
      "\n",
      "3. 4.7 değerine ulaşmak için indexleme:\n",
      "4.7\n",
      "\n",
      "4. 9, '3', 8.4, 'Hi-Kod' değerlerine ulaşmak için slicing:\n",
      "[9, '3', 8.4, 'Hi-Kod']\n",
      "\n",
      "5. 8.4, 'Hi-Kod', 'False', 4.7 değerlerine ulaşmak için slicing:\n",
      "[8.4, 'Hi-Kod', 'False', 4.7]\n",
      "\n",
      "6. Verilen listede string veri tipindeki öğeleri yeni_liste'ye ekleme:\n",
      "['Python', '3', 'Hi-Kod', 'False']\n",
      "\n",
      "7. Enumerate methodunu kullanarak bir listeyi yazdırma:\n",
      "0. indexte bulunan meyve: Elma\n",
      "1. indexte bulunan meyve: Armut\n",
      "2. indexte bulunan meyve: Muz\n",
      "3. indexte bulunan meyve: Çilek\n"
     ]
    }
   ],
   "source": [
    "# Verilen liste\n",
    "liste = [\"Python\", True, 9, \"3\", 8.4, \"Hi-Kod\", \"False\", 4.7]\n",
    "\n",
    "# 1. \"3\" değerine ulaşmak için indexleme\n",
    "print(\"1. '3' değerine ulaşmak için indexleme:\")\n",
    "print(liste[3])  # Çıktı: \"3\"\n",
    "\n",
    "# 2. \"Hi-Kod\" değerine ulaşmak için indexleme\n",
    "print(\"\\n2. 'Hi-Kod' değerine ulaşmak için indexleme:\")\n",
    "print(liste[5])  # Çıktı: \"Hi-Kod\"\n",
    "\n",
    "# 3. 4.7 değerine ulaşmak için indexleme\n",
    "print(\"\\n3. 4.7 değerine ulaşmak için indexleme:\")\n",
    "print(liste[7])  # Çıktı: 4.7\n",
    "\n",
    "# 4. 9, \"3\", 8.4, \"Hi-Kod\" değerlerine ulaşmak için slicing\n",
    "print(\"\\n4. 9, '3', 8.4, 'Hi-Kod' değerlerine ulaşmak için slicing:\")\n",
    "print(liste[2:6])  # Çıktı: [9, \"3\", 8.4, \"Hi-Kod\"]\n",
    "\n",
    "# 5. 8.4, \"Hi-Kod\", \"False\", 4.7 değerlerine ulaşmak için slicing\n",
    "print(\"\\n5. 8.4, 'Hi-Kod', 'False', 4.7 değerlerine ulaşmak için slicing:\")\n",
    "print(liste[4:])  # Çıktı: [8.4, \"Hi-Kod\", \"False\", 4.7]\n",
    "\n",
    "# 6. String veri tipindeki öğeleri yeni_liste isimli listeye ekleme\n",
    "print(\"\\n6. Verilen listede string veri tipindeki öğeleri yeni_liste'ye ekleme:\")\n",
    "yeni_liste = [item for item in liste if isinstance(item, str)]\n",
    "print(yeni_liste)  # Çıktı: [\"Python\", \"3\", \"Hi-Kod\", \"False\"]\n",
    "\n",
    "# 7. Enumerate methodunu araştırarak örnek oluşturma\n",
    "print(\"\\n7. Enumerate methodunu kullanarak bir listeyi yazdırma:\")\n",
    "meyveler = [\"Elma\", \"Armut\", \"Muz\", \"Çilek\"]\n",
    "\n",
    "# Enumerate ile indeks ve öğeleri birlikte yazdırma\n",
    "for index, meyve in enumerate(meyveler):\n",
    "    print(f\"{index}. indexte bulunan meyve: {meyve}\")\n"
   ]
  },
  {
   "cell_type": "code",
   "execution_count": null,
   "id": "bf1d7bdf-3a14-4afa-804a-27ad8fd94b6b",
   "metadata": {},
   "outputs": [],
   "source": []
  }
 ],
 "metadata": {
  "kernelspec": {
   "display_name": "Python 3 (ipykernel)",
   "language": "python",
   "name": "python3"
  },
  "language_info": {
   "codemirror_mode": {
    "name": "ipython",
    "version": 3
   },
   "file_extension": ".py",
   "mimetype": "text/x-python",
   "name": "python",
   "nbconvert_exporter": "python",
   "pygments_lexer": "ipython3",
   "version": "3.11.7"
  }
 },
 "nbformat": 4,
 "nbformat_minor": 5
}
